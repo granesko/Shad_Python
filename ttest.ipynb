{
 "cells": [
  {
   "cell_type": "markdown",
   "metadata": {},
   "source": [
    "Дополнительное задание по курсу Методы математической статистики\n",
    "\n",
    "В файле даны замеры забойного давления на 2 скважинах. Можно ли с надежностью 95% утверждать, что давления можно считать равными, отличия статистически не значимы?\n",
    "\n",
    "Необходимо сформулировать нулевую и альтернативную гипотезу, вычислить критическое значение для критерия Стьюдента и р-значение, сделать вывод\n",
    "\n",
    "Вариант\n",
    "\n",
    "    1 МУСИЕНКО ВАДИМ\n",
    "\n",
    "    2 ВУКИЧЕВИЧ СТЕФАН\n",
    "\n",
    "    3 ОРУДЖЕВ АЛИ\n",
    "\n",
    "    4 ТРАМОВ АДИЛ"
   ]
  },
  {
   "cell_type": "markdown",
   "metadata": {},
   "source": [
    "Загружаем необходимые библиотеки"
   ]
  },
  {
   "cell_type": "code",
   "execution_count": 52,
   "metadata": {},
   "outputs": [],
   "source": [
    "import pandas as pd\n",
    "import matplotlib\n",
    "import matplotlib.pyplot as plt\n",
    "from scipy import stats"
   ]
  },
  {
   "cell_type": "markdown",
   "metadata": {},
   "source": [
    "С помощью процедуры read_excel считыем данные о замерах забойного давления на 2 скважинах из документа proverka_gipotez.xlsx"
   ]
  },
  {
   "cell_type": "code",
   "execution_count": 7,
   "metadata": {},
   "outputs": [],
   "source": [
    "df = pd.read_excel('proverka_gipotez.xlsx')"
   ]
  },
  {
   "cell_type": "markdown",
   "metadata": {},
   "source": [
    "Выведим данные"
   ]
  },
  {
   "cell_type": "code",
   "execution_count": 8,
   "metadata": {
    "scrolled": true
   },
   "outputs": [
    {
     "data": {
      "text/html": [
       "<div>\n",
       "<style scoped>\n",
       "    .dataframe tbody tr th:only-of-type {\n",
       "        vertical-align: middle;\n",
       "    }\n",
       "\n",
       "    .dataframe tbody tr th {\n",
       "        vertical-align: top;\n",
       "    }\n",
       "\n",
       "    .dataframe thead th {\n",
       "        text-align: right;\n",
       "    }\n",
       "</style>\n",
       "<table border=\"1\" class=\"dataframe\">\n",
       "  <thead>\n",
       "    <tr style=\"text-align: right;\">\n",
       "      <th></th>\n",
       "      <th>P1</th>\n",
       "      <th>P2</th>\n",
       "    </tr>\n",
       "  </thead>\n",
       "  <tbody>\n",
       "    <tr>\n",
       "      <th>0</th>\n",
       "      <td>120.714431</td>\n",
       "      <td>119.430196</td>\n",
       "    </tr>\n",
       "    <tr>\n",
       "      <th>1</th>\n",
       "      <td>121.301441</td>\n",
       "      <td>120.844523</td>\n",
       "    </tr>\n",
       "    <tr>\n",
       "      <th>2</th>\n",
       "      <td>114.796815</td>\n",
       "      <td>118.417013</td>\n",
       "    </tr>\n",
       "    <tr>\n",
       "      <th>3</th>\n",
       "      <td>113.098356</td>\n",
       "      <td>118.430678</td>\n",
       "    </tr>\n",
       "    <tr>\n",
       "      <th>4</th>\n",
       "      <td>105.596151</td>\n",
       "      <td>125.124298</td>\n",
       "    </tr>\n",
       "    <tr>\n",
       "      <th>5</th>\n",
       "      <td>128.095844</td>\n",
       "      <td>125.067716</td>\n",
       "    </tr>\n",
       "    <tr>\n",
       "      <th>6</th>\n",
       "      <td>123.306354</td>\n",
       "      <td>115.930682</td>\n",
       "    </tr>\n",
       "    <tr>\n",
       "      <th>7</th>\n",
       "      <td>131.664451</td>\n",
       "      <td>121.803357</td>\n",
       "    </tr>\n",
       "    <tr>\n",
       "      <th>8</th>\n",
       "      <td>122.421791</td>\n",
       "      <td>113.299014</td>\n",
       "    </tr>\n",
       "    <tr>\n",
       "      <th>9</th>\n",
       "      <td>115.164012</td>\n",
       "      <td>125.104289</td>\n",
       "    </tr>\n",
       "    <tr>\n",
       "      <th>10</th>\n",
       "      <td>116.604583</td>\n",
       "      <td>122.775585</td>\n",
       "    </tr>\n",
       "    <tr>\n",
       "      <th>11</th>\n",
       "      <td>125.040943</td>\n",
       "      <td>124.459491</td>\n",
       "    </tr>\n",
       "    <tr>\n",
       "      <th>12</th>\n",
       "      <td>120.258871</td>\n",
       "      <td>125.703009</td>\n",
       "    </tr>\n",
       "    <tr>\n",
       "      <th>13</th>\n",
       "      <td>126.832875</td>\n",
       "      <td>119.309131</td>\n",
       "    </tr>\n",
       "    <tr>\n",
       "      <th>14</th>\n",
       "      <td>120.540558</td>\n",
       "      <td>122.843672</td>\n",
       "    </tr>\n",
       "    <tr>\n",
       "      <th>15</th>\n",
       "      <td>122.402453</td>\n",
       "      <td>115.152393</td>\n",
       "    </tr>\n",
       "    <tr>\n",
       "      <th>16</th>\n",
       "      <td>120.137902</td>\n",
       "      <td>123.095545</td>\n",
       "    </tr>\n",
       "    <tr>\n",
       "      <th>17</th>\n",
       "      <td>127.327844</td>\n",
       "      <td>118.476818</td>\n",
       "    </tr>\n",
       "    <tr>\n",
       "      <th>18</th>\n",
       "      <td>120.495561</td>\n",
       "      <td>113.715744</td>\n",
       "    </tr>\n",
       "    <tr>\n",
       "      <th>19</th>\n",
       "      <td>110.284505</td>\n",
       "      <td>122.353204</td>\n",
       "    </tr>\n",
       "    <tr>\n",
       "      <th>20</th>\n",
       "      <td>114.801408</td>\n",
       "      <td>125.544609</td>\n",
       "    </tr>\n",
       "    <tr>\n",
       "      <th>21</th>\n",
       "      <td>121.088506</td>\n",
       "      <td>121.346609</td>\n",
       "    </tr>\n",
       "    <tr>\n",
       "      <th>22</th>\n",
       "      <td>114.358859</td>\n",
       "      <td>127.821654</td>\n",
       "    </tr>\n",
       "    <tr>\n",
       "      <th>23</th>\n",
       "      <td>119.548237</td>\n",
       "      <td>116.038935</td>\n",
       "    </tr>\n",
       "    <tr>\n",
       "      <th>24</th>\n",
       "      <td>127.558333</td>\n",
       "      <td>120.991179</td>\n",
       "    </tr>\n",
       "    <tr>\n",
       "      <th>25</th>\n",
       "      <td>120.951036</td>\n",
       "      <td>116.841194</td>\n",
       "    </tr>\n",
       "    <tr>\n",
       "      <th>26</th>\n",
       "      <td>116.918336</td>\n",
       "      <td>116.181293</td>\n",
       "    </tr>\n",
       "    <tr>\n",
       "      <th>27</th>\n",
       "      <td>118.954149</td>\n",
       "      <td>117.070023</td>\n",
       "    </tr>\n",
       "    <tr>\n",
       "      <th>28</th>\n",
       "      <td>109.519483</td>\n",
       "      <td>117.971878</td>\n",
       "    </tr>\n",
       "    <tr>\n",
       "      <th>29</th>\n",
       "      <td>122.599251</td>\n",
       "      <td>117.072291</td>\n",
       "    </tr>\n",
       "    <tr>\n",
       "      <th>30</th>\n",
       "      <td>115.482142</td>\n",
       "      <td>116.766121</td>\n",
       "    </tr>\n",
       "    <tr>\n",
       "      <th>31</th>\n",
       "      <td>131.601423</td>\n",
       "      <td>119.460982</td>\n",
       "    </tr>\n",
       "    <tr>\n",
       "      <th>32</th>\n",
       "      <td>129.488303</td>\n",
       "      <td>119.919862</td>\n",
       "    </tr>\n",
       "    <tr>\n",
       "      <th>33</th>\n",
       "      <td>124.143271</td>\n",
       "      <td>121.081065</td>\n",
       "    </tr>\n",
       "    <tr>\n",
       "      <th>34</th>\n",
       "      <td>122.638740</td>\n",
       "      <td>122.303750</td>\n",
       "    </tr>\n",
       "    <tr>\n",
       "      <th>35</th>\n",
       "      <td>128.768848</td>\n",
       "      <td>119.158968</td>\n",
       "    </tr>\n",
       "    <tr>\n",
       "      <th>36</th>\n",
       "      <td>122.355335</td>\n",
       "      <td>120.573652</td>\n",
       "    </tr>\n",
       "    <tr>\n",
       "      <th>37</th>\n",
       "      <td>124.215417</td>\n",
       "      <td>129.535006</td>\n",
       "    </tr>\n",
       "    <tr>\n",
       "      <th>38</th>\n",
       "      <td>122.785856</td>\n",
       "      <td>111.852656</td>\n",
       "    </tr>\n",
       "    <tr>\n",
       "      <th>39</th>\n",
       "      <td>126.240680</td>\n",
       "      <td>121.999086</td>\n",
       "    </tr>\n",
       "    <tr>\n",
       "      <th>40</th>\n",
       "      <td>118.349301</td>\n",
       "      <td>114.421307</td>\n",
       "    </tr>\n",
       "    <tr>\n",
       "      <th>41</th>\n",
       "      <td>126.626613</td>\n",
       "      <td>120.676198</td>\n",
       "    </tr>\n",
       "    <tr>\n",
       "      <th>42</th>\n",
       "      <td>123.272635</td>\n",
       "      <td>114.907932</td>\n",
       "    </tr>\n",
       "    <tr>\n",
       "      <th>43</th>\n",
       "      <td>118.499243</td>\n",
       "      <td>121.526791</td>\n",
       "    </tr>\n",
       "    <tr>\n",
       "      <th>44</th>\n",
       "      <td>123.240950</td>\n",
       "      <td>120.922228</td>\n",
       "    </tr>\n",
       "  </tbody>\n",
       "</table>\n",
       "</div>"
      ],
      "text/plain": [
       "            P1          P2\n",
       "0   120.714431  119.430196\n",
       "1   121.301441  120.844523\n",
       "2   114.796815  118.417013\n",
       "3   113.098356  118.430678\n",
       "4   105.596151  125.124298\n",
       "5   128.095844  125.067716\n",
       "6   123.306354  115.930682\n",
       "7   131.664451  121.803357\n",
       "8   122.421791  113.299014\n",
       "9   115.164012  125.104289\n",
       "10  116.604583  122.775585\n",
       "11  125.040943  124.459491\n",
       "12  120.258871  125.703009\n",
       "13  126.832875  119.309131\n",
       "14  120.540558  122.843672\n",
       "15  122.402453  115.152393\n",
       "16  120.137902  123.095545\n",
       "17  127.327844  118.476818\n",
       "18  120.495561  113.715744\n",
       "19  110.284505  122.353204\n",
       "20  114.801408  125.544609\n",
       "21  121.088506  121.346609\n",
       "22  114.358859  127.821654\n",
       "23  119.548237  116.038935\n",
       "24  127.558333  120.991179\n",
       "25  120.951036  116.841194\n",
       "26  116.918336  116.181293\n",
       "27  118.954149  117.070023\n",
       "28  109.519483  117.971878\n",
       "29  122.599251  117.072291\n",
       "30  115.482142  116.766121\n",
       "31  131.601423  119.460982\n",
       "32  129.488303  119.919862\n",
       "33  124.143271  121.081065\n",
       "34  122.638740  122.303750\n",
       "35  128.768848  119.158968\n",
       "36  122.355335  120.573652\n",
       "37  124.215417  129.535006\n",
       "38  122.785856  111.852656\n",
       "39  126.240680  121.999086\n",
       "40  118.349301  114.421307\n",
       "41  126.626613  120.676198\n",
       "42  123.272635  114.907932\n",
       "43  118.499243  121.526791\n",
       "44  123.240950  120.922228"
      ]
     },
     "execution_count": 8,
     "metadata": {},
     "output_type": "execute_result"
    }
   ],
   "source": [
    "df"
   ]
  },
  {
   "cell_type": "markdown",
   "metadata": {},
   "source": [
    "Построим две гистограммы для P1 и P2"
   ]
  },
  {
   "cell_type": "code",
   "execution_count": 9,
   "metadata": {},
   "outputs": [],
   "source": [
    "x = df['P1']\n",
    "y = df['P2']\n",
    "x.name, y.name = 'P1','P2'"
   ]
  },
  {
   "cell_type": "code",
   "execution_count": 43,
   "metadata": {},
   "outputs": [],
   "source": [
    "def two_histograms(x,y, bins):\n",
    "    x.hist(alpha=0.5, weights=[1./len(x)]*len(x), color='salmon', bins = bins)\n",
    "    y.hist(alpha=0.5, weights=[1./len(y)]*len(y), color='skyblue', bins = bins)\n",
    "    plt.axvline(x.mean(), color='red', alpha=0.8, linestyle = 'dashed')\n",
    "    plt.axvline(y.mean(), color='blue', alpha=0.8, linestyle = 'dashed')\n",
    "    plt.legend([x.name, y.name])"
   ]
  },
  {
   "cell_type": "code",
   "execution_count": 55,
   "metadata": {},
   "outputs": [
    {
     "data": {
      "image/png": "[encoded data removed]",
      "text/plain": [
       "<Figure size 432x288 with 1 Axes>"
      ]
     },
     "metadata": {
      "needs_background": "light"
     },
     "output_type": "display_data"
    }
   ],
   "source": [
    "two_histograms(x,y,10)\n",
    "# линиями отмечены медианы P1 и P2"
   ]
  },
  {
   "cell_type": "markdown",
   "metadata": {},
   "source": [
    "Увеличим количество столбцов, чтобы понять, что перед нами не идеальные нормальные распределения"
   ]
  },
  {
   "cell_type": "code",
   "execution_count": 47,
   "metadata": {},
   "outputs": [
    {
     "data": {
      "image/png": "[encoded data removed]",
      "text/plain": [
       "<Figure size 432x288 with 1 Axes>"
      ]
     },
     "metadata": {
      "needs_background": "light"
     },
     "output_type": "display_data"
    }
   ],
   "source": [
    "two_histograms(x,y,30)"
   ]
  },
  {
   "cell_type": "markdown",
   "metadata": {},
   "source": [
    "Распределения похожи на нормальные, существенных отклонений от нормальности нет\n",
    "\n",
    "являются ли различия статистически значимыми?\n",
    "\n",
    "#### Нулевая гипотеза: различия НЕ ЯВЛЯЮТСЯ статистически значимыми, простым языком \"равны\"\n",
    "\n",
    "#### Альтернативная гипотеза: различия ЯВЛЯЮТСЯ статистически значимымиБ \"не равны\""
   ]
  },
  {
   "cell_type": "markdown",
   "metadata": {},
   "source": [
    "Если бы мы подумали, что распределения величин не являются нормальными, мы бы использовали критерий Манна-Уитни, но если все впорядке, будем исвпользовать критерий Стьюдента, для этого в python есть процедура из библиотеки stats под названием ttest_rel\n",
    "\n",
    "#### Документация   https://docs.scipy.org/doc/scipy/reference/generated/scipy.stats.ttest_rel.html\n",
    "scipy.stats.ttest_rel \n",
    "scipy.stats.ttest_rel(a , b)\n",
    "Рассчитайте критерий Стьюдента на ДВУХ СВЯЗАННЫХ выборках баллов a и b.\n",
    "\n",
    "Это двусторонний тест для нулевой гипотезы о том, что 2 связанных или повторных образца имеют идентичные средние (ожидаемые) значения.\n",
    "\n",
    "#### Можно ли с надежностью 95% утверждать, что давления можно считать равными, отличия статистически не значимы?\n",
    "\n",
    "Возьмем порог значимости 0.05\n",
    "\n",
    "если критерий Стьюдента, p-value будет больше 0.05, то гипотеза подтвердится и мы сделаем вывод, что отличия статистически не значимы"
   ]
  },
  {
   "cell_type": "code",
   "execution_count": 54,
   "metadata": {},
   "outputs": [
    {
     "name": "stdout",
     "output_type": "stream",
     "text": [
      "p-value:  0.34037133115984175\n"
     ]
    }
   ],
   "source": [
    "res = stats.ttest_rel(x,y)\n",
    "print('p-value: ', res[1])"
   ]
  },
  {
   "cell_type": "markdown",
   "metadata": {},
   "source": [
    "p-value получилось достаточно большим, поэтому у нас нет оснований отвергнуть гипотезу\n",
    "\n",
    "### Вывод: замеры различаются незначимо, разница медиан в выборках случайна"
   ]
  }
 ],
 "metadata": {
  "kernelspec": {
   "display_name": "Python 3",
   "language": "python",
   "name": "python3"
  },
  "language_info": {
   "codemirror_mode": {
    "name": "ipython",
    "version": 3
   },
   "file_extension": ".py",
   "mimetype": "text/x-python",
   "name": "python",
   "nbconvert_exporter": "python",
   "pygments_lexer": "ipython3",
   "version": "3.7.6"
  }
 },
 "nbformat": 4,
 "nbformat_minor": 4
}
